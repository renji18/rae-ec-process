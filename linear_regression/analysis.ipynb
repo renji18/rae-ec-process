{
 "cells": [
  {
   "cell_type": "code",
   "execution_count": 1,
   "metadata": {},
   "outputs": [],
   "source": [
    "import pandas as pd\n",
    "from predict import predict"
   ]
  },
  {
   "cell_type": "code",
   "execution_count": 2,
   "metadata": {},
   "outputs": [],
   "source": [
    "size = 30\n",
    "file = '../data/random_' + str(size) + '.xlsx'\n",
    "df = pd.read_excel(file)"
   ]
  },
  {
   "cell_type": "code",
   "execution_count": 3,
   "metadata": {},
   "outputs": [
    {
     "name": "stdout",
     "output_type": "stream",
     "text": [
      "    x1      x2    x3   x4    ans  predicted_output\n",
      "15   8  307.68  1.25   80  71.20           71.9562\n",
      "19   6  384.60  1.00   60  68.30           69.6740\n",
      "11   8  307.68  0.75   80  68.14           69.3862\n",
      "14   4  307.68  1.25   80  67.54           68.9162\n",
      "23   6  230.76  1.00  100  67.51           68.6284\n"
     ]
    }
   ],
   "source": [
    "df['predicted_output'] = df.apply(lambda row: predict(row['x1'], row['x2'], row['x3'], row['x4']), axis=1)\n",
    "df_sorted = df.sort_values(by='predicted_output', ascending=False)\n",
    "print(df_sorted.head())"
   ]
  }
 ],
 "metadata": {
  "kernelspec": {
   "display_name": "base",
   "language": "python",
   "name": "python3"
  },
  "language_info": {
   "codemirror_mode": {
    "name": "ipython",
    "version": 3
   },
   "file_extension": ".py",
   "mimetype": "text/x-python",
   "name": "python",
   "nbconvert_exporter": "python",
   "pygments_lexer": "ipython3",
   "version": "3.12.4"
  }
 },
 "nbformat": 4,
 "nbformat_minor": 2
}
