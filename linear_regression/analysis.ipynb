{
 "cells": [
  {
   "cell_type": "code",
   "execution_count": 1,
   "metadata": {},
   "outputs": [],
   "source": [
    "import pandas as pd\n",
    "from predict import predict"
   ]
  },
  {
   "cell_type": "code",
   "execution_count": 2,
   "metadata": {},
   "outputs": [],
   "source": [
    "size = 10000\n",
    "file = '../data/random_' + str(size) + '.xlsx'\n",
    "df = pd.read_excel(file)"
   ]
  },
  {
   "cell_type": "code",
   "execution_count": 3,
   "metadata": {},
   "outputs": [
    {
     "name": "stdout",
     "output_type": "stream",
     "text": [
      "            x1          x2        x3         x4  predicted_output_lr\n",
      "1256  8.922136  382.268143  1.480391  98.630968            86.516076\n",
      "5282  8.315802  384.202856  1.476043  97.977759            85.998010\n",
      "4699  9.230002  362.137474  1.496608  96.622637            84.378982\n",
      "2594  8.050087  369.909885  1.438513  97.851190            84.276292\n",
      "4782  9.027350  367.348954  1.412582  95.976828            84.055448\n",
      "...        ...         ...       ...        ...                  ...\n",
      "7296  2.294069   84.996637  0.730846  25.099379            27.341538\n",
      "2904  2.443677   94.090269  0.610478  24.051417            27.319631\n",
      "8535  3.290398   81.320270  0.520396  26.624495            27.174201\n",
      "198   2.447312   80.170856  0.643490  26.517192            27.028375\n",
      "5411  2.048328   83.940131  0.727752  22.465532            26.200958\n",
      "\n",
      "[10000 rows x 5 columns]\n",
      "            x1          x2        x3         x4  predicted_output_lr\n",
      "1256  8.922136  382.268143  1.480391  98.630968            86.516076\n",
      "5282  8.315802  384.202856  1.476043  97.977759            85.998010\n",
      "4699  9.230002  362.137474  1.496608  96.622637            84.378982\n",
      "2594  8.050087  369.909885  1.438513  97.851190            84.276292\n",
      "4782  9.027350  367.348954  1.412582  95.976828            84.055448\n"
     ]
    }
   ],
   "source": [
    "df['predicted_output_lr'] = df.apply(lambda row: predict(row['x1'], row['x2'], row['x3'], row['x4']), axis=1)\n",
    "\n",
    "with pd.ExcelWriter(file, mode='a', engine='openpyxl', if_sheet_exists='replace') as writer:\n",
    "    df.to_excel(writer, index=False)\n",
    "\n",
    "df_sorted = df.sort_values(by='predicted_output_lr', ascending=False)\n",
    "pd.set_option('display.max_rows', 1000)\n",
    "print(df_sorted)\n",
    "print(df_sorted.head())"
   ]
  }
 ],
 "metadata": {
  "kernelspec": {
   "display_name": "base",
   "language": "python",
   "name": "python3"
  },
  "language_info": {
   "codemirror_mode": {
    "name": "ipython",
    "version": 3
   },
   "file_extension": ".py",
   "mimetype": "text/x-python",
   "name": "python",
   "nbconvert_exporter": "python",
   "pygments_lexer": "ipython3",
   "version": "3.12.4"
  }
 },
 "nbformat": 4,
 "nbformat_minor": 2
}
