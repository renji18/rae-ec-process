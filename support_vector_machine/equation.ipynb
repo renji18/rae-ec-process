{
 "cells": [
  {
   "cell_type": "code",
   "execution_count": 1,
   "metadata": {},
   "outputs": [],
   "source": [
    "import pandas as pd\n",
    "from sklearn.svm import SVR\n",
    "from sklearn.preprocessing import StandardScaler\n",
    "import numpy as np"
   ]
  },
  {
   "cell_type": "code",
   "execution_count": 2,
   "metadata": {},
   "outputs": [],
   "source": [
    "file_path = '../data/original.xlsx' \n",
    "df = pd.read_excel(file_path)"
   ]
  },
  {
   "cell_type": "code",
   "execution_count": 3,
   "metadata": {},
   "outputs": [],
   "source": [
    "X = df[['x1', 'x2', 'x3', 'x4']].values\n",
    "y = df['ans'].values"
   ]
  },
  {
   "cell_type": "code",
   "execution_count": null,
   "metadata": {},
   "outputs": [],
   "source": [
    "scaler = StandardScaler()\n",
    "X_scaled = scaler.fit_transform(X)\n",
    "\n",
    "# Train the SVR model\n",
    "svr = SVR(kernel='rbf')\n",
    "svr.fit(X_scaled, y)"
   ]
  },
  {
   "cell_type": "code",
   "execution_count": 5,
   "metadata": {},
   "outputs": [],
   "source": [
    "support_vectors = svr.support_vectors_\n",
    "dual_coef = svr.dual_coef_\n",
    "intercept = svr.intercept_"
   ]
  },
  {
   "cell_type": "code",
   "execution_count": null,
   "metadata": {},
   "outputs": [],
   "source": [
    "print(\"Support Vectors:\")\n",
    "print(support_vectors)\n",
    "\n",
    "print(\"Dual Coefficients:\")\n",
    "print(dual_coef)\n",
    "\n",
    "print(\"Intercept:\")\n",
    "print(intercept)"
   ]
  },
  {
   "cell_type": "code",
   "execution_count": null,
   "metadata": {},
   "outputs": [],
   "source": [
    "# Define a function to predict based on the trained model\n",
    "def predict_svr(x1, x2, x3, x4):\n",
    "    # Scale the input using the same scaler used during training\n",
    "    input_data = np.array([[x1, x2, x3, x4]])\n",
    "    input_scaled = scaler.transform(input_data)\n",
    "    \n",
    "    # Predict using the SVR model\n",
    "    return svr.predict(input_scaled)[0]\n",
    "\n",
    "# Example usage\n",
    "predicted_ans = predict_svr(1.5, 2.0, 3.0, 4.5)\n",
    "print(\"Predicted Answer:\", predicted_ans)"
   ]
  }
 ],
 "metadata": {
  "kernelspec": {
   "display_name": "base",
   "language": "python",
   "name": "python3"
  },
  "language_info": {
   "codemirror_mode": {
    "name": "ipython",
    "version": 3
   },
   "file_extension": ".py",
   "mimetype": "text/x-python",
   "name": "python",
   "nbconvert_exporter": "python",
   "pygments_lexer": "ipython3",
   "version": "3.12.4"
  }
 },
 "nbformat": 4,
 "nbformat_minor": 2
}
