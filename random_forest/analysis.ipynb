{
 "cells": [
  {
   "cell_type": "code",
   "execution_count": 1,
   "metadata": {},
   "outputs": [],
   "source": [
    "import pandas as pd\n",
    "import joblib"
   ]
  },
  {
   "cell_type": "code",
   "execution_count": 2,
   "metadata": {},
   "outputs": [],
   "source": [
    "model = joblib.load('./random_forest_model.pkl')"
   ]
  },
  {
   "cell_type": "code",
   "execution_count": 3,
   "metadata": {},
   "outputs": [],
   "source": [
    "size = 10000\n",
    "file = '../data/random_' + str(size) + '.xlsx'\n",
    "df = pd.read_excel(file)"
   ]
  },
  {
   "cell_type": "code",
   "execution_count": 4,
   "metadata": {},
   "outputs": [
    {
     "name": "stdout",
     "output_type": "stream",
     "text": [
      "         x1          x2        x3         x4  predicted_output_lr\n",
      "0  2.520978  104.103874  1.075161  77.846189            47.882398\n",
      "1  4.547734  358.874279  1.043605  37.138810            59.163511\n",
      "2  6.111143  163.534589  1.196498  59.340999            50.661701\n",
      "3  5.768621  111.051099  1.400148  87.447638            55.718755\n",
      "4  9.860853  186.886681  1.338203  92.173562            66.847952\n"
     ]
    }
   ],
   "source": [
    "print(df.head())"
   ]
  },
  {
   "cell_type": "code",
   "execution_count": 5,
   "metadata": {},
   "outputs": [
    {
     "name": "stdout",
     "output_type": "stream",
     "text": [
      "            x1          x2        x3         x4  predicted_output_lr  \\\n",
      "226   7.936016  381.328751  1.112573  79.020917            77.516280   \n",
      "9873  7.685904  357.781600  1.053670  85.713570            77.045835   \n",
      "7069  9.551684  361.270704  1.078683  81.580689            77.583895   \n",
      "7007  9.369040  362.321416  1.036528  84.402696            78.226017   \n",
      "3575  7.303279  375.385109  1.065587  86.359229            78.607222   \n",
      "...        ...         ...       ...        ...                  ...   \n",
      "6958  5.235677   96.488398  0.873296  24.766092            31.236963   \n",
      "3655  5.096950   95.643441  0.830396  25.830811            31.175689   \n",
      "7464  5.828747  113.110367  0.823655  24.120968            32.722078   \n",
      "5568  5.529573  101.628456  0.632774  27.286293            31.493108   \n",
      "2421  5.016037  111.997906  0.920862  27.168693            33.479211   \n",
      "\n",
      "      predicted_output_rf  \n",
      "226             67.610879  \n",
      "9873            67.610879  \n",
      "7069            67.610879  \n",
      "7007            67.610879  \n",
      "3575            67.610879  \n",
      "...                   ...  \n",
      "6958            34.070300  \n",
      "3655            34.070300  \n",
      "7464            34.070300  \n",
      "5568            34.070300  \n",
      "2421            33.817000  \n",
      "\n",
      "[10000 rows x 6 columns]\n"
     ]
    }
   ],
   "source": [
    "df['predicted_output_rf'] = df.apply(\n",
    "    lambda row: model.predict(pd.DataFrame([[row['x1'], row['x2'], row['x3'], row['x4']]], columns=['x1', 'x2', 'x3', 'x4']))[0], axis=1\n",
    ")\n",
    "\n",
    "\n",
    "with pd.ExcelWriter(file, mode='a', engine='openpyxl', if_sheet_exists='replace') as writer:\n",
    "    df.to_excel(writer, index=False)\n",
    "\n",
    "\n",
    "df_sorted = df.sort_values(by='predicted_output_rf', ascending=False)\n",
    "\n",
    "pd.set_option('display.max_rows', 1000)\n",
    "print(df_sorted)"
   ]
  }
 ],
 "metadata": {
  "kernelspec": {
   "display_name": "base",
   "language": "python",
   "name": "python3"
  },
  "language_info": {
   "codemirror_mode": {
    "name": "ipython",
    "version": 3
   },
   "file_extension": ".py",
   "mimetype": "text/x-python",
   "name": "python",
   "nbconvert_exporter": "python",
   "pygments_lexer": "ipython3",
   "version": "3.12.4"
  }
 },
 "nbformat": 4,
 "nbformat_minor": 2
}
