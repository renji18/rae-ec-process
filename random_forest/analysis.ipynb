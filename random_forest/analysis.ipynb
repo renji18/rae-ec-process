{
 "cells": [
  {
   "cell_type": "code",
   "execution_count": 6,
   "metadata": {},
   "outputs": [],
   "source": [
    "import pandas as pd\n",
    "import joblib"
   ]
  },
  {
   "cell_type": "code",
   "execution_count": 7,
   "metadata": {},
   "outputs": [],
   "source": [
    "model = joblib.load('./random_forest_model.pkl')"
   ]
  },
  {
   "cell_type": "code",
   "execution_count": 8,
   "metadata": {},
   "outputs": [],
   "source": [
    "size = 1000\n",
    "file = '../data/random_' + str(size) + '.xlsx'\n",
    "df = pd.read_excel(file)"
   ]
  },
  {
   "cell_type": "code",
   "execution_count": 9,
   "metadata": {},
   "outputs": [
    {
     "name": "stdout",
     "output_type": "stream",
     "text": [
      "   x1      x2    x3  x4  actual    ccd  linear_regression  random_forest\n",
      "0   4  153.84  0.75  40   40.01  38.31              40.16        41.6189\n",
      "1   8  153.84  0.75  40   47.30  42.90              43.20        45.7630\n",
      "2   4  307.68  0.75  40   52.45  49.41              54.30        53.6012\n",
      "3   8  307.68  0.75  40   56.12  52.56              57.34        56.6286\n",
      "4   4  153.84  1.25  40   44.30  41.23              42.73        44.4566\n"
     ]
    }
   ],
   "source": [
    "print(df.head())"
   ]
  },
  {
   "cell_type": "code",
   "execution_count": 10,
   "metadata": {},
   "outputs": [
    {
     "name": "stdout",
     "output_type": "stream",
     "text": [
      "    x1      x2    x3   x4  actual    ccd  linear_regression  random_forest\n",
      "15   8  307.68  1.25   80   71.20  70.80              72.65      66.844841\n",
      "19   6  384.60  1.00   60   68.30  68.21              70.55      66.698029\n",
      "11   8  307.68  0.75   80   68.14  68.59              70.08      65.974358\n",
      "14   4  307.68  1.25   80   67.54  69.32              69.62      64.535529\n",
      "23   6  230.76  1.00  100   67.51  63.54              69.16      63.393733\n",
      "17  10  230.76  1.00   60   49.59  55.56              59.44      63.216475\n",
      "10   4  307.68  0.75   80   64.20  66.44              67.05      63.062300\n",
      "28   6  230.76  1.00   60   63.65  62.98              56.41      62.873214\n",
      "27   6  230.76  1.00   60   61.28  62.98              56.41      62.873214\n",
      "26   6  230.76  1.00   60   61.85  62.98              56.41      62.873214\n",
      "25   6  230.76  1.00   60   62.79  62.98              56.41      62.873214\n",
      "24   6  230.76  1.00   60   62.88  62.98              56.41      62.873214\n",
      "29   6  230.76  1.00   60   64.43  62.98              56.41      62.873214\n",
      "21   6  230.76  1.50   60   62.53  63.25              58.98      62.801497\n",
      "7    8  307.68  1.25   40   61.40  59.04              59.90      60.438844\n",
      "20   6  230.76  0.50   60   54.11  58.12              53.84      56.925495\n",
      "6    4  307.68  1.25   40   56.20  56.56              56.87      56.831829\n",
      "3    8  307.68  0.75   40   56.12  52.56              57.34      56.628600\n",
      "16   2  230.76  1.00   60   50.74  49.49              53.37      53.610743\n",
      "2    4  307.68  0.75   40   52.45  49.41              54.30      53.601200\n",
      "13   8  153.84  1.25   80   53.20  53.62              58.51      51.494600\n",
      "9    8  153.84  0.75   80   58.10  55.64              55.95      49.060500\n",
      "5    8  153.84  1.25   40   49.50  45.16              45.77      48.320700\n",
      "12   4  153.84  1.25   80   49.25  50.70              55.48      47.501100\n",
      "1    8  153.84  0.75   40   47.30  42.90              43.20      45.763000\n",
      "8    4  153.84  0.75   80   52.30  52.04              52.91      44.650000\n",
      "4    4  153.84  1.25   40   44.30  41.23              42.73      44.456600\n",
      "0    4  153.84  0.75   40   40.01  38.31              40.16      41.618900\n",
      "22   6  230.76  1.00   20   29.35  38.05              43.66      39.398872\n",
      "18   6   76.92  1.00   60   35.12  39.94              42.27      39.056800\n"
     ]
    }
   ],
   "source": [
    "df['random_forest'] = df.apply(\n",
    "    lambda row: model.predict(pd.DataFrame([[row['x1'], row['x2'], row['x3'], row['x4']]], columns=['x1', 'x2', 'x3', 'x4']))[0], axis=1\n",
    ")\n",
    "\n",
    "\n",
    "with pd.ExcelWriter(file, mode='a', engine='openpyxl', if_sheet_exists='replace') as writer:\n",
    "    df.to_excel(writer, index=False)\n",
    "\n",
    "\n",
    "df_sorted = df.sort_values(by='random_forest', ascending=False)\n",
    "\n",
    "pd.set_option('display.max_rows', 1000)\n",
    "print(df_sorted)"
   ]
  }
 ],
 "metadata": {
  "kernelspec": {
   "display_name": "base",
   "language": "python",
   "name": "python3"
  },
  "language_info": {
   "codemirror_mode": {
    "name": "ipython",
    "version": 3
   },
   "file_extension": ".py",
   "mimetype": "text/x-python",
   "name": "python",
   "nbconvert_exporter": "python",
   "pygments_lexer": "ipython3",
   "version": "3.12.4"
  }
 },
 "nbformat": 4,
 "nbformat_minor": 2
}
